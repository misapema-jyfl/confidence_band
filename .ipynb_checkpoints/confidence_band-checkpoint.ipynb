{
 "cells": [
  {
   "cell_type": "markdown",
   "id": "2bc3f8b1",
   "metadata": {},
   "source": [
    "### Confidence_band.py\n",
    "\n",
    "Script to calculate the median value and the confidence limits from a given array."
   ]
  },
  {
   "cell_type": "code",
   "execution_count": 1,
   "id": "a28deb70",
   "metadata": {},
   "outputs": [],
   "source": [
    "import numpy as np\n",
    "import matplotlib.pyplot as plt\n",
    "from matplotlib import rc as mplrc\n",
    "from scipy.stats import laplace_asymmetric\n",
    "\n",
    "# Set font for plots\n",
    "font = {'family' : 'sans-serif',\n",
    "        'weight' : 'normal',\n",
    "        'size'   : 15}\n",
    "\n",
    "mplrc('font', **font)"
   ]
  },
  {
   "cell_type": "code",
   "execution_count": 15,
   "id": "ebc74bb2",
   "metadata": {},
   "outputs": [
    {
     "data": {
      "text/plain": [
       "[<matplotlib.lines.Line2D at 0x7fdbfedeaf40>]"
      ]
     },
     "execution_count": 15,
     "metadata": {},
     "output_type": "execute_result"
    },
    {
     "data": {
      "image/png": "[encoded data removed]",
      "text/plain": [
       "<Figure size 432x288 with 1 Axes>"
      ]
     },
     "metadata": {
      "needs_background": "light"
     },
     "output_type": "display_data"
    }
   ],
   "source": [
    "# Generate pseudo-data from an asymmetric pdf\n",
    "# -------------------------------------------\n",
    "\n",
    "kappa=2\n",
    "x = np.linspace(laplace_asymmetric.ppf(0.01, kappa),\n",
    "                laplace_asymmetric.ppf(0.99, kappa), 1000)\n",
    "y = laplace_asymmetric.pdf(x, kappa)\n",
    "\n",
    "fig, ax = plt.subplots()\n",
    "ax.plot(y)\n"
   ]
  },
  {
   "cell_type": "code",
   "execution_count": 3,
   "id": "bd23e39a",
   "metadata": {},
   "outputs": [],
   "source": [
    "def calculate_confidence_band(array, confidence):\n",
    "    \"\"\"\n",
    "    Calculates the lower and upper bounds \n",
    "    enclosing a chosen fraction 'confidence' (%)\n",
    "    of elements in given array between \n",
    "    the bound and the median. \n",
    "    \n",
    "    Confidence must be less than 50 %.\n",
    "    \"\"\"\n",
    "    q1 = 50 - confidence\n",
    "    q2 = 50 + confidence\n",
    "    lower, median, upper = np.percentile(a=array, q=[q1, 50, q2])\n",
    "    \n",
    "    return lower, median, upper"
   ]
  },
  {
   "cell_type": "code",
   "execution_count": 12,
   "id": "f2ab3d01",
   "metadata": {},
   "outputs": [],
   "source": [
    "def find_edges(edges, values):\n",
    "    \"\"\"\n",
    "    Finds the histogram edge index preceding the given value\n",
    "    from the array 'edges'. Give values as list.\n",
    "    \"\"\"\n",
    "    def find_edge(edges, value):\n",
    "        for i, edge in enumerate(np.sort(edges)):\n",
    "            if edge > value:\n",
    "                return i-1\n",
    "    idx = []\n",
    "    for value in values:\n",
    "        idx.append(find_edge(edges, value))\n",
    "    return idx"
   ]
  },
  {
   "cell_type": "code",
   "execution_count": 16,
   "id": "4997c5cd",
   "metadata": {},
   "outputs": [
    {
     "name": "stdout",
     "output_type": "stream",
     "text": [
      "Median: 0.051\n",
      "Lo: 0.011\n",
      "Hi: 0.208\n"
     ]
    },
    {
     "data": {
      "image/png": "[encoded data removed]",
      "text/plain": [
       "<Figure size 432x288 with 1 Axes>"
      ]
     },
     "metadata": {
      "needs_background": "light"
     },
     "output_type": "display_data"
    }
   ],
   "source": [
    "# Calculate the lower and upper limits\n",
    "# enclosing 34.1 % of all array values\n",
    "# above and below the median value.\n",
    "# ------------------------------------\n",
    "l, median, u = calculate_confidence_band(y, confidence=34.1)\n",
    "\n",
    "# Plot settings\n",
    "# -------------\n",
    "nbins = 100\n",
    "histoColor = \"dimgray\"\n",
    "lineColor = \"orangered\"\n",
    "lineStyle = \"-\"\n",
    "lineWidth = 2.5\n",
    "\n",
    "# Get the heigths for plotting \n",
    "# the vertical lines at l, median, u\n",
    "# ----------------------------------\n",
    "\n",
    "counts, edges = np.histogram(y, bins=nbins)\n",
    "idx = find_edges(edges, [l,median,u])\n",
    "ylimTop = max(counts)*1.1\n",
    "ymax_lo = counts[idx[0]]/ylimTop\n",
    "ymax_m = counts[idx[1]]/ylimTop\n",
    "ymax_hi = counts[idx[2]]/ylimTop\n",
    "\n",
    "# Make the plot\n",
    "# -------------\n",
    "fig, ax = plt.subplots()\n",
    "ax.hist(y, bins =100, density=False, color=histoColor)\n",
    "ax.axvline(x=l, ymin=0, ymax=ymax_lo, color=lineColor, ls=lineStyle, lw=lineWidth)\n",
    "ax.axvline(x=u, ymin=0, ymax=ymax_hi, color=lineColor, ls=lineStyle, lw=lineWidth)\n",
    "ax.axvline(x=median, ymin=0, ymax=ymax_m, color=lineColor, ls=lineStyle, lw=lineWidth)\n",
    "ax.set(\n",
    "    xlabel=\"Value\",\n",
    "    ylabel=\"Counts\",\n",
    "    xlim=[0, edges[-1]],\n",
    "    ylim=[0, max(counts)+0.1*max(counts)]\n",
    ")\n",
    "ax.grid(axis=\"both\", ls=\"--\")\n",
    "\n",
    "print(\"Median: {:.3f}\".format(median))\n",
    "print(\"Lo: {:.3f}\".format(l))\n",
    "print(\"Hi: {:.3f}\".format(u))"
   ]
  },
  {
   "cell_type": "code",
   "execution_count": null,
   "id": "8be608da",
   "metadata": {},
   "outputs": [],
   "source": []
  }
 ],
 "metadata": {
  "kernelspec": {
   "display_name": "Python 3",
   "language": "python",
   "name": "python3"
  },
  "language_info": {
   "codemirror_mode": {
    "name": "ipython",
    "version": 3
   },
   "file_extension": ".py",
   "mimetype": "text/x-python",
   "name": "python",
   "nbconvert_exporter": "python",
   "pygments_lexer": "ipython3",
   "version": "3.8.5"
  }
 },
 "nbformat": 4,
 "nbformat_minor": 5
}
